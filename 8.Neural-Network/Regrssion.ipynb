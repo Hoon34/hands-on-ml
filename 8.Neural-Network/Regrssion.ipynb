{
 "cells": [
  {
   "cell_type": "markdown",
   "metadata": {},
   "source": [
    "> # California House Price #\n",
    "\n",
    "Regression problem like house price can be solved by neural network."
   ]
  },
  {
   "cell_type": "code",
   "execution_count": 1,
   "metadata": {},
   "outputs": [],
   "source": [
    "import tensorflow as tf\n",
    "from tensorflow import keras\n",
    "import numpy as np\n",
    "import pandas as pd\n",
    "import matplotlib.pyplot as plt\n",
    "import warnings ; warnings.filterwarnings(\"ignore\")"
   ]
  },
  {
   "cell_type": "code",
   "execution_count": 3,
   "metadata": {},
   "outputs": [],
   "source": [
    "from sklearn.datasets import fetch_california_housing\n",
    "\n",
    "housing = fetch_california_housing()\n",
    "X, y = housing.data, housing.target"
   ]
  },
  {
   "cell_type": "code",
   "execution_count": 4,
   "metadata": {},
   "outputs": [],
   "source": [
    "from sklearn.model_selection import train_test_split\n",
    "\n",
    "X_train_full, X_test, y_train_full, y_test = train_test_split(X, y)\n",
    "\n",
    "X_train, X_valid, y_train, y_valid = train_test_split(X_train_full, y_train_full)"
   ]
  },
  {
   "cell_type": "code",
   "execution_count": 5,
   "metadata": {},
   "outputs": [],
   "source": [
    "from sklearn.preprocessing import StandardScaler\n",
    "\n",
    "scaler = StandardScaler()\n",
    "\n",
    "X_train = scaler.fit_transform(X_train)\n",
    "X_valid = scaler.transform(X_valid)\n",
    "X_test = scaler.transform(X_test)"
   ]
  },
  {
   "cell_type": "markdown",
   "metadata": {},
   "source": [
    "Major difference from classification mlp is that output layer is a neuron which doesn't have activation fuction. And loss fuction is MSE."
   ]
  },
  {
   "cell_type": "code",
   "execution_count": 7,
   "metadata": {},
   "outputs": [],
   "source": [
    "model = keras.models.Sequential([\n",
    "    keras.layers.Dense(30, activation='relu', input_shape=X_train.shape[1:]),\n",
    "    keras.layers.Dense(1)\n",
    "])\n",
    "\n",
    "model.compile(loss='mean_squared_error', optimizer='sgd')"
   ]
  },
  {
   "cell_type": "code",
   "execution_count": 8,
   "metadata": {},
   "outputs": [
    {
     "name": "stdout",
     "output_type": "stream",
     "text": [
      "Epoch 1/30\n",
      "363/363 [==============================] - 0s 1ms/step - loss: 0.8702 - val_loss: 2.3052\n",
      "Epoch 2/30\n",
      "363/363 [==============================] - 0s 843us/step - loss: 3.5998 - val_loss: 0.5196\n",
      "Epoch 3/30\n",
      "363/363 [==============================] - 0s 741us/step - loss: 0.5134 - val_loss: 0.4589\n",
      "Epoch 4/30\n",
      "363/363 [==============================] - 0s 869us/step - loss: 0.4576 - val_loss: 0.4378\n",
      "Epoch 5/30\n",
      "363/363 [==============================] - 0s 712us/step - loss: 0.4454 - val_loss: 0.4291\n",
      "Epoch 6/30\n",
      "363/363 [==============================] - 0s 742us/step - loss: 0.4345 - val_loss: 0.4149\n",
      "Epoch 7/30\n",
      "363/363 [==============================] - 0s 774us/step - loss: 0.4240 - val_loss: 0.4046\n",
      "Epoch 8/30\n",
      "363/363 [==============================] - 0s 1ms/step - loss: 0.4350 - val_loss: 0.4099\n",
      "Epoch 9/30\n",
      "363/363 [==============================] - 0s 697us/step - loss: 0.4169 - val_loss: 0.4017\n",
      "Epoch 10/30\n",
      "363/363 [==============================] - 0s 766us/step - loss: 0.4088 - val_loss: 0.3937\n",
      "Epoch 11/30\n",
      "363/363 [==============================] - 0s 732us/step - loss: 0.4063 - val_loss: 0.3873\n",
      "Epoch 12/30\n",
      "363/363 [==============================] - 0s 754us/step - loss: 0.4038 - val_loss: 0.3867\n",
      "Epoch 13/30\n",
      "363/363 [==============================] - 0s 722us/step - loss: 0.3981 - val_loss: 0.3828\n",
      "Epoch 14/30\n",
      "363/363 [==============================] - 0s 849us/step - loss: 0.3979 - val_loss: 0.3833\n",
      "Epoch 15/30\n",
      "363/363 [==============================] - 0s 800us/step - loss: 0.3920 - val_loss: 0.3777\n",
      "Epoch 16/30\n",
      "363/363 [==============================] - 0s 799us/step - loss: 0.3890 - val_loss: 0.3754\n",
      "Epoch 17/30\n",
      "363/363 [==============================] - 0s 793us/step - loss: 0.3879 - val_loss: 0.3766\n",
      "Epoch 18/30\n",
      "363/363 [==============================] - 0s 851us/step - loss: 0.3848 - val_loss: 0.3699\n",
      "Epoch 19/30\n",
      "363/363 [==============================] - 0s 791us/step - loss: 0.3846 - val_loss: 0.3698\n",
      "Epoch 20/30\n",
      "363/363 [==============================] - 0s 760us/step - loss: 0.3824 - val_loss: 0.3780\n",
      "Epoch 21/30\n",
      "363/363 [==============================] - 0s 788us/step - loss: 0.3794 - val_loss: 0.3647\n",
      "Epoch 22/30\n",
      "363/363 [==============================] - 0s 791us/step - loss: 0.4056 - val_loss: 0.3815\n",
      "Epoch 23/30\n",
      "363/363 [==============================] - 0s 818us/step - loss: 0.3830 - val_loss: 0.3664\n",
      "Epoch 24/30\n",
      "363/363 [==============================] - 0s 763us/step - loss: 0.3757 - val_loss: 0.3619\n",
      "Epoch 25/30\n",
      "363/363 [==============================] - 0s 824us/step - loss: 0.3722 - val_loss: 0.3639\n",
      "Epoch 26/30\n",
      "363/363 [==============================] - 0s 791us/step - loss: 0.3707 - val_loss: 0.3590\n",
      "Epoch 27/30\n",
      "363/363 [==============================] - 0s 751us/step - loss: 0.3697 - val_loss: 0.3581\n",
      "Epoch 28/30\n",
      "363/363 [==============================] - 0s 761us/step - loss: 0.3684 - val_loss: 0.3558\n",
      "Epoch 29/30\n",
      "363/363 [==============================] - 0s 791us/step - loss: 0.3662 - val_loss: 0.3556\n",
      "Epoch 30/30\n",
      "363/363 [==============================] - 0s 813us/step - loss: 0.3684 - val_loss: 0.3542\n"
     ]
    }
   ],
   "source": [
    "history = model.fit(X_train, y_train, epochs=30, validation_data=(X_valid, y_valid))"
   ]
  },
  {
   "cell_type": "code",
   "execution_count": 9,
   "metadata": {},
   "outputs": [
    {
     "name": "stdout",
     "output_type": "stream",
     "text": [
      "162/162 [==============================] - 0s 608us/step - loss: 0.3601\n"
     ]
    }
   ],
   "source": [
    "mse_test = model.evaluate(X_test, y_test)"
   ]
  },
  {
   "cell_type": "code",
   "execution_count": 16,
   "metadata": {},
   "outputs": [
    {
     "data": {
      "image/png": "[encoded data removed]",
      "text/plain": [
       "<Figure size 576x360 with 1 Axes>"
      ]
     },
     "metadata": {
      "needs_background": "light"
     },
     "output_type": "display_data"
    }
   ],
   "source": [
    "pd.DataFrame(history.history).plot(figsize=(8,5))\n",
    "plt.ylim(0.3, 0.8); plt.grid(True)"
   ]
  }
 ],
 "metadata": {
  "kernelspec": {
   "display_name": "Python 3",
   "language": "python",
   "name": "python3"
  },
  "language_info": {
   "codemirror_mode": {
    "name": "ipython",
    "version": 3
   },
   "file_extension": ".py",
   "mimetype": "text/x-python",
   "name": "python",
   "nbconvert_exporter": "python",
   "pygments_lexer": "ipython3",
   "version": "3.7.6"
  }
 },
 "nbformat": 4,
 "nbformat_minor": 4
}
