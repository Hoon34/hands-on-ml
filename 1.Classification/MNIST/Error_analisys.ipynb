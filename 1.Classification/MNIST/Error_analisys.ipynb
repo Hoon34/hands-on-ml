{
 "cells": [
  {
   "cell_type": "markdown",
   "metadata": {},
   "source": [
    "# **Error Analysis**#"
   ]
  },
  {
   "cell_type": "code",
   "execution_count": 1,
   "metadata": {},
   "outputs": [],
   "source": [
    "import numpy as np\n",
    "import pandas as pd\n",
    "import matplotlib.pyplot as plt\n",
    "from jupyterthemes import jtplot\n",
    "import warnings\n",
    "\n",
    "warnings.filterwarnings('ignore')\n",
    "jtplot.style('monokai', grid = False)"
   ]
  },
  {
   "cell_type": "code",
   "execution_count": 2,
   "metadata": {},
   "outputs": [],
   "source": [
    "from sklearn.model_selection import train_test_split\n",
    "\n",
    "train_df = pd.read_csv('train.csv', header = 0)\n",
    "train, test = train_test_split(train_df, test_size = 0.2)\n",
    "x_train = train.drop(['label'], axis = 1 )\n",
    "y_train = train['label']\n",
    "x_test = test.drop(['label'], axis = 1 )\n",
    "y_test = test['label']"
   ]
  },
  {
   "cell_type": "code",
   "execution_count": 3,
   "metadata": {},
   "outputs": [],
   "source": [
    "from sklearn.preprocessing import StandardScaler\n",
    "scaler = StandardScaler()\n",
    "x_train_scaled = scaler.fit_transform(x_train)"
   ]
  },
  {
   "cell_type": "code",
   "execution_count": 4,
   "metadata": {},
   "outputs": [
    {
     "data": {
      "text/plain": [
       "array([[3123,    0,    9,    3,    6,   38,   35,    2,   71,    2],\n",
       "       [   0, 3579,   20,   16,    0,   23,    6,    5,   81,    6],\n",
       "       [  16,   20, 2923,   60,   47,   18,   30,   29,  153,    7],\n",
       "       [  15,   16,   66, 3017,    1,  144,   20,   22,  138,   40],\n",
       "       [   6,   10,   27,    7, 2952,    8,   23,   13,  104,  120],\n",
       "       [  25,    9,   15,  108,   38, 2613,   49,   13,  166,   50],\n",
       "       [  19,   10,   27,    1,   31,   57, 3160,    2,   54,    1],\n",
       "       [  12,    9,   42,   20,   22,    8,    3, 3191,   43,  151],\n",
       "       [  13,   42,   22,   63,    3,   72,   17,    7, 2966,   38],\n",
       "       [  11,    8,   12,   44,   99,   24,    1,   98,  114, 2920]],\n",
       "      dtype=int64)"
      ]
     },
     "execution_count": 4,
     "metadata": {},
     "output_type": "execute_result"
    }
   ],
   "source": [
    "from sklearn.linear_model import SGDClassifier\n",
    "from sklearn.model_selection import cross_val_predict\n",
    "from sklearn.metrics import confusion_matrix\n",
    "\n",
    "sgd = SGDClassifier()\n",
    "y_pred = cross_val_predict(sgd, x_train_scaled, y_train)\n",
    "conf_mat = confusion_matrix(y_train, y_pred)\n",
    "conf_mat"
   ]
  },
  {
   "cell_type": "code",
   "execution_count": 5,
   "metadata": {},
   "outputs": [
    {
     "data": {
      "text/plain": [
       "[<matplotlib.lines.Line2D at 0x25cd02a6b88>]"
      ]
     },
     "execution_count": 5,
     "metadata": {},
     "output_type": "execute_result"
    },
    {
     "data": {
      "image/png": "[encoded data removed]",
      "text/plain": [
       "<Figure size 403.2x403.2 with 1 Axes>"
      ]
     },
     "metadata": {},
     "output_type": "display_data"
    }
   ],
   "source": [
    "plt.matshow(conf_mat, cmap = plt.cm.gray)\n",
    "plt.plot(5,5,marker = 'v', c = 'red', ms = 10)"
   ]
  },
  {
   "cell_type": "markdown",
   "metadata": {},
   "source": [
    "**It seems that 5 is darker than other numbers.**\n",
    "\n",
    "**It means the model can't recognize 5 like other numbers.**\n",
    "\n",
    "**And next, let's focus on error part.**\n",
    "\n",
    "**Calculate the error ratio of each image.**"
   ]
  },
  {
   "cell_type": "code",
   "execution_count": 6,
   "metadata": {},
   "outputs": [],
   "source": [
    "row_sum = conf_mat.sum(axis = 1, keepdims = True)\n",
    "norm_conf_mat = conf_mat / row_sum\n",
    "np.fill_diagonal(norm_conf_mat, 0)"
   ]
  },
  {
   "cell_type": "code",
   "execution_count": 21,
   "metadata": {},
   "outputs": [
    {
     "data": {
      "text/plain": [
       "[<matplotlib.lines.Line2D at 0x25ca62a6d88>]"
      ]
     },
     "execution_count": 21,
     "metadata": {},
     "output_type": "execute_result"
    },
    {
     "data": {
      "image/png": "[encoded data removed]",
      "text/plain": [
       "<Figure size 403.2x403.2 with 1 Axes>"
      ]
     },
     "metadata": {},
     "output_type": "display_data"
    }
   ],
   "source": [
    "plt.matshow(norm_conf_mat, cmap = plt.cm.gray)\n",
    "plt.xlabel('Prediction'); plt.ylabel('Actual'); plt.xlim(-0.5,9.5); plt.ylim(9.5,-0.5)\n",
    "plt.plot([8,8],[-1,10], linestyle = '--', c = 'red', linewidth = 2)\n",
    "plt.plot([3,5],[5,3], marker = 'o', c = 'blue', ms = 7, linestyle = '--')"
   ]
  },
  {
   "cell_type": "markdown",
   "metadata": {},
   "source": [
    "**Many not 8 images are classified as 8.**\n",
    "\n",
    "**But 8 images are properly classified as 8.**\n",
    "\n",
    "**And the model is confused between 3 and 5.**"
   ]
  }
 ],
 "metadata": {
  "kernelspec": {
   "display_name": "Python 3",
   "language": "python",
   "name": "python3"
  },
  "language_info": {
   "codemirror_mode": {
    "name": "ipython",
    "version": 3
   },
   "file_extension": ".py",
   "mimetype": "text/x-python",
   "name": "python",
   "nbconvert_exporter": "python",
   "pygments_lexer": "ipython3",
   "version": "3.7.6"
  }
 },
 "nbformat": 4,
 "nbformat_minor": 4
}
