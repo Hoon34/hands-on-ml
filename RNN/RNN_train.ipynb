{
 "cells": [
  {
   "cell_type": "markdown",
   "id": "0ffea938-4600-46bd-8927-ae55f0450bc3",
   "metadata": {},
   "source": [
    "#### - Train RNN\n",
    "\n",
    "A method to train RNN is to spread network in time step and use backpropagation. This is BPTT. A sequence pass through network. And output sequence is evaluated by cost function. The cost function can ignore some outputs(ex. sequence to vector). And gradient of cost function propagates in reverse along the spreaded network. "
   ]
  },
  {
   "cell_type": "markdown",
   "id": "6f79c181-b5ae-445b-b07e-fc89d86f7f22",
   "metadata": {},
   "source": [
    "#### - Forcasting Time Series\n",
    "\n"
   ]
  },
  {
   "cell_type": "code",
   "execution_count": 1,
   "id": "b85ce0f1-db16-4e0b-bd90-fb76f1179122",
   "metadata": {},
   "outputs": [],
   "source": [
    "import numpy as np\n",
    "import pandas as pd\n",
    "import matplotlib.pyplot as plt\n",
    "import tensorflow as tf\n",
    "from tensorflow import keras"
   ]
  },
  {
   "cell_type": "code",
   "execution_count": 2,
   "id": "f7b36f9e-c1ca-400c-aa85-127388c4979a",
   "metadata": {},
   "outputs": [],
   "source": [
    "def generate_time_series(batch_size, n_step):\n",
    "    freq1, freq2, offset1, offset2 = np.random.randn(4, batch_size, 1)\n",
    "    time = np.linspace(0, 1, n_step)\n",
    "    series = 0.5 * np.sin((time - offset1) * (freq1 * 10 + 10))\n",
    "    series += 0.2 * np.sin((time - offset2) * (freq2 * 20 + 20))\n",
    "    series += 0.1 * (np.random.rand(batch_size, n_step) - 0.5)\n",
    "    return series[..., np.newaxis].astype(np.float32)"
   ]
  },
  {
   "cell_type": "code",
   "execution_count": 3,
   "id": "1b7775b9-cee4-4e1f-a43d-c048647f84cb",
   "metadata": {},
   "outputs": [],
   "source": [
    "n_steps = 50\n",
    "series = generate_time_series(10000, n_steps + 1)\n",
    "X_train, y_train = series[:7000, :n_steps], series[:7000, -1]\n",
    "X_valid, y_valid = series[7000:9000, :n_steps], series[7000:9000, -1]\n",
    "X_test, y_test = series[9000:, :n_steps], series[9000:, -1]"
   ]
  },
  {
   "cell_type": "markdown",
   "id": "27ce2717-39d4-466a-b8a1-21e630bebe55",
   "metadata": {},
   "source": [
    "Before start training, it's good to prepare some criteria score. A basic model is to predict the last value of each time series. This is naive forcasting."
   ]
  },
  {
   "cell_type": "code",
   "execution_count": 4,
   "id": "b375489d-ec14-43f7-9e22-18cc9c82ccda",
   "metadata": {},
   "outputs": [
    {
     "data": {
      "text/plain": [
       "(7000, 50, 1)"
      ]
     },
     "execution_count": 4,
     "metadata": {},
     "output_type": "execute_result"
    }
   ],
   "source": [
    "X_train.shape"
   ]
  },
  {
   "cell_type": "code",
   "execution_count": 5,
   "id": "3e4c8e4b-c0df-489d-a079-546c3d81f832",
   "metadata": {
    "tags": []
   },
   "outputs": [
    {
     "data": {
      "text/plain": [
       "0.018318351"
      ]
     },
     "execution_count": 5,
     "metadata": {},
     "output_type": "execute_result"
    }
   ],
   "source": [
    "y_pred = X_valid[:, -1]\n",
    "np.mean(keras.losses.mean_squared_error(y_valid, y_pred))"
   ]
  },
  {
   "cell_type": "markdown",
   "id": "43dc7bc4-05b4-430e-bbfa-8245d3fd7170",
   "metadata": {},
   "source": [
    "Another is to use fully connected network. Let's use some simple linear regression model."
   ]
  },
  {
   "cell_type": "code",
   "execution_count": 6,
   "id": "54cb5a71-a6f6-4b91-8da1-5f62df630b3c",
   "metadata": {},
   "outputs": [],
   "source": [
    "model = keras.models.Sequential([\n",
    "    keras.layers.Flatten(input_shape=[50,1]),\n",
    "    keras.layers.Dense(1)\n",
    "])"
   ]
  },
  {
   "cell_type": "code",
   "execution_count": 7,
   "id": "c8ad9f07-4880-46b6-a813-bb23c7114e29",
   "metadata": {},
   "outputs": [],
   "source": [
    "model.compile(optimizer=\"adam\", loss=\"mse\")"
   ]
  },
  {
   "cell_type": "code",
   "execution_count": 8,
   "id": "87fa293d-5c6d-4328-80da-4a92e992a363",
   "metadata": {
    "tags": []
   },
   "outputs": [
    {
     "name": "stdout",
     "output_type": "stream",
     "text": [
      "Epoch 1/20\n",
      "219/219 [==============================] - 1s 1ms/step - loss: 0.1359\n",
      "Epoch 2/20\n",
      "219/219 [==============================] - 0s 1ms/step - loss: 0.0715\n",
      "Epoch 3/20\n",
      "219/219 [==============================] - 0s 956us/step - loss: 0.0481\n",
      "Epoch 4/20\n",
      "219/219 [==============================] - 0s 965us/step - loss: 0.0374\n",
      "Epoch 5/20\n",
      "219/219 [==============================] - 0s 878us/step - loss: 0.0312\n",
      "Epoch 6/20\n",
      "219/219 [==============================] - 0s 814us/step - loss: 0.0269\n",
      "Epoch 7/20\n",
      "219/219 [==============================] - 0s 901us/step - loss: 0.0237\n",
      "Epoch 8/20\n",
      "219/219 [==============================] - 0s 901us/step - loss: 0.0213\n",
      "Epoch 9/20\n",
      "219/219 [==============================] - 0s 787us/step - loss: 0.0193\n",
      "Epoch 10/20\n",
      "219/219 [==============================] - 0s 764us/step - loss: 0.0177\n",
      "Epoch 11/20\n",
      "219/219 [==============================] - 0s 1ms/step - loss: 0.0163\n",
      "Epoch 12/20\n",
      "219/219 [==============================] - 0s 814us/step - loss: 0.0152\n",
      "Epoch 13/20\n",
      "219/219 [==============================] - 0s 920us/step - loss: 0.0142\n",
      "Epoch 14/20\n",
      "219/219 [==============================] - 0s 1ms/step - loss: 0.0134\n",
      "Epoch 15/20\n",
      "219/219 [==============================] - 0s 956us/step - loss: 0.0126\n",
      "Epoch 16/20\n",
      "219/219 [==============================] - 0s 1ms/step - loss: 0.0119\n",
      "Epoch 17/20\n",
      "219/219 [==============================] - 0s 929us/step - loss: 0.0114\n",
      "Epoch 18/20\n",
      "219/219 [==============================] - 0s 883us/step - loss: 0.0109\n",
      "Epoch 19/20\n",
      "219/219 [==============================] - 0s 865us/step - loss: 0.0106\n",
      "Epoch 20/20\n",
      "219/219 [==============================] - 0s 970us/step - loss: 0.0102\n"
     ]
    }
   ],
   "source": [
    "history = model.fit(X_train, y_train, epochs=20)"
   ]
  },
  {
   "cell_type": "code",
   "execution_count": 9,
   "id": "303a21f1-ec8a-4584-8890-8dfe55904a9a",
   "metadata": {},
   "outputs": [
    {
     "name": "stdout",
     "output_type": "stream",
     "text": [
      "63/63 [==============================] - 0s 708us/step - loss: 0.0106\n"
     ]
    },
    {
     "data": {
      "text/plain": [
       "0.0106143644079566"
      ]
     },
     "execution_count": 9,
     "metadata": {},
     "output_type": "execute_result"
    }
   ],
   "source": [
    "model.evaluate(X_valid, y_valid)"
   ]
  },
  {
   "cell_type": "markdown",
   "id": "67d9cf89-5b5f-43bc-a61e-b0bcf970e9b8",
   "metadata": {},
   "source": [
    "####  - Simple RNN"
   ]
  },
  {
   "cell_type": "code",
   "execution_count": 10,
   "id": "7976d4ae-cd5a-42ac-9ff5-b723bee8b0fb",
   "metadata": {},
   "outputs": [],
   "source": [
    "model = keras.models.Sequential([\n",
    "    keras.layers.SimpleRNN(1, input_shape=[None, 1])\n",
    "])"
   ]
  },
  {
   "cell_type": "markdown",
   "id": "5daef7b0-58a6-4d1a-9242-d602ef377460",
   "metadata": {},
   "source": [
    "This is the simples RNN. Since RNN handle any length of time step, we don't have to set length of input sequence. **SimpleRNN** uses tanh function. Initial state is 0 and send it to one recurrent neuron with first time step. The neuron calculates weights sum, applies tanh activation function and prints first $y_0$. And it becomes new state. This repeats to last value $y_{49}$"
   ]
  },
  {
   "cell_type": "code",
   "execution_count": 11,
   "id": "39bc3234-77bd-4091-aa4f-f25bdf7f9ed9",
   "metadata": {},
   "outputs": [
    {
     "name": "stdout",
     "output_type": "stream",
     "text": [
      "Epoch 1/20\n",
      "219/219 [==============================] - 2s 5ms/step - loss: 0.1840\n",
      "Epoch 2/20\n",
      "219/219 [==============================] - 1s 4ms/step - loss: 0.0786\n",
      "Epoch 3/20\n",
      "219/219 [==============================] - 1s 4ms/step - loss: 0.0512\n",
      "Epoch 4/20\n",
      "219/219 [==============================] - 1s 4ms/step - loss: 0.0445\n",
      "Epoch 5/20\n",
      "219/219 [==============================] - 1s 4ms/step - loss: 0.0397\n",
      "Epoch 6/20\n",
      "219/219 [==============================] - 1s 4ms/step - loss: 0.0356\n",
      "Epoch 7/20\n",
      "219/219 [==============================] - 1s 4ms/step - loss: 0.0322\n",
      "Epoch 8/20\n",
      "219/219 [==============================] - 1s 4ms/step - loss: 0.0293\n",
      "Epoch 9/20\n",
      "219/219 [==============================] - 1s 4ms/step - loss: 0.0268\n",
      "Epoch 10/20\n",
      "219/219 [==============================] - 1s 4ms/step - loss: 0.0247\n",
      "Epoch 11/20\n",
      "219/219 [==============================] - 1s 5ms/step - loss: 0.0229\n",
      "Epoch 12/20\n",
      "219/219 [==============================] - 1s 5ms/step - loss: 0.0212\n",
      "Epoch 13/20\n",
      "219/219 [==============================] - 1s 4ms/step - loss: 0.0198\n",
      "Epoch 14/20\n",
      "219/219 [==============================] - 1s 4ms/step - loss: 0.0186\n",
      "Epoch 15/20\n",
      "219/219 [==============================] - 1s 5ms/step - loss: 0.0174\n",
      "Epoch 16/20\n",
      "219/219 [==============================] - 1s 4ms/step - loss: 0.0164\n",
      "Epoch 17/20\n",
      "219/219 [==============================] - 1s 4ms/step - loss: 0.0156\n",
      "Epoch 18/20\n",
      "219/219 [==============================] - 1s 4ms/step - loss: 0.0148\n",
      "Epoch 19/20\n",
      "219/219 [==============================] - 1s 4ms/step - loss: 0.0140\n",
      "Epoch 20/20\n",
      "219/219 [==============================] - 1s 4ms/step - loss: 0.0134\n"
     ]
    }
   ],
   "source": [
    "model.compile(optimizer=\"adam\", loss=\"mse\")\n",
    "history = model.fit(X_train, y_train, epochs=20)"
   ]
  },
  {
   "cell_type": "code",
   "execution_count": 12,
   "id": "e464b803-6655-43aa-aadc-683917fcb3d9",
   "metadata": {},
   "outputs": [
    {
     "name": "stdout",
     "output_type": "stream",
     "text": [
      "63/63 [==============================] - 0s 2ms/step - loss: 0.0137\n"
     ]
    },
    {
     "data": {
      "text/plain": [
       "0.013664891012012959"
      ]
     },
     "execution_count": 12,
     "metadata": {},
     "output_type": "execute_result"
    }
   ],
   "source": [
    "model.evaluate(X_valid, y_valid)"
   ]
  },
  {
   "attachments": {
    "dd78fbb1-691d-4189-9ecf-58a1e823aae6.png": {
     "image/png": "[encoded data removed]"
    }
   },
   "cell_type": "markdown",
   "id": "08fd949e-a495-43df-8ded-541eb9f8b0ac",
   "metadata": {},
   "source": [
    "#### - Deep RNN\n",
    "\n",
    "![deepRNN.png](attachment:dd78fbb1-691d-4189-9ecf-58a1e823aae6.png)\n",
    "\n",
    "Just by stacking recurrent layers, we can simply make deep RNN."
   ]
  },
  {
   "cell_type": "code",
   "execution_count": 13,
   "id": "3b40a00b-8569-445f-9a89-704bc6cb514c",
   "metadata": {},
   "outputs": [],
   "source": [
    "model = keras.models.Sequential([ \n",
    "    keras.layers.SimpleRNN(20, return_sequences=True, input_shape=[None, 1]),\n",
    "    keras.layers.SimpleRNN(20),\n",
    "    keras.layers.Dense(1)\n",
    "])"
   ]
  },
  {
   "cell_type": "code",
   "execution_count": 14,
   "id": "14e3db8e-bd30-453b-9750-be2e835c208a",
   "metadata": {},
   "outputs": [
    {
     "name": "stdout",
     "output_type": "stream",
     "text": [
      "Epoch 1/20\n",
      "219/219 [==============================] - 3s 9ms/step - loss: 0.0614\n",
      "Epoch 2/20\n",
      "219/219 [==============================] - 2s 8ms/step - loss: 0.0108\n",
      "Epoch 3/20\n",
      "219/219 [==============================] - 2s 8ms/step - loss: 0.0077\n",
      "Epoch 4/20\n",
      "219/219 [==============================] - 2s 11ms/step - loss: 0.0071\n",
      "Epoch 5/20\n",
      "219/219 [==============================] - 3s 14ms/step - loss: 0.0067\n",
      "Epoch 6/20\n",
      "219/219 [==============================] - 3s 12ms/step - loss: 0.0066\n",
      "Epoch 7/20\n",
      "219/219 [==============================] - 2s 9ms/step - loss: 0.0065\n",
      "Epoch 8/20\n",
      "219/219 [==============================] - 2s 9ms/step - loss: 0.0064\n",
      "Epoch 9/20\n",
      "219/219 [==============================] - 2s 9ms/step - loss: 0.0063\n",
      "Epoch 10/20\n",
      "219/219 [==============================] - 2s 10ms/step - loss: 0.0064\n",
      "Epoch 11/20\n",
      "219/219 [==============================] - 2s 9ms/step - loss: 0.0062\n",
      "Epoch 12/20\n",
      "219/219 [==============================] - 3s 13ms/step - loss: 0.0063\n",
      "Epoch 13/20\n",
      "219/219 [==============================] - 2s 8ms/step - loss: 0.0061\n",
      "Epoch 14/20\n",
      "219/219 [==============================] - 2s 8ms/step - loss: 0.0061\n",
      "Epoch 15/20\n",
      "219/219 [==============================] - 2s 8ms/step - loss: 0.0062\n",
      "Epoch 16/20\n",
      "219/219 [==============================] - 2s 8ms/step - loss: 0.0061\n",
      "Epoch 17/20\n",
      "219/219 [==============================] - 2s 9ms/step - loss: 0.0062\n",
      "Epoch 18/20\n",
      "219/219 [==============================] - 2s 8ms/step - loss: 0.0060\n",
      "Epoch 19/20\n",
      "219/219 [==============================] - 2s 9ms/step - loss: 0.0060\n",
      "Epoch 20/20\n",
      "219/219 [==============================] - 2s 8ms/step - loss: 0.0060\n"
     ]
    }
   ],
   "source": [
    "model.compile(optimizer=\"adam\", loss=\"mse\")\n",
    "history = model.fit(X_train, y_train, epochs=20)"
   ]
  },
  {
   "cell_type": "code",
   "execution_count": 15,
   "id": "88dccae0-e5fc-44af-a6df-902aa7d817ac",
   "metadata": {},
   "outputs": [
    {
     "name": "stdout",
     "output_type": "stream",
     "text": [
      "63/63 [==============================] - 1s 3ms/step - loss: 0.0064\n"
     ]
    },
    {
     "data": {
      "text/plain": [
       "0.00638963095843792"
      ]
     },
     "execution_count": 15,
     "metadata": {},
     "output_type": "execute_result"
    }
   ],
   "source": [
    "model.evaluate(X_valid, y_valid)"
   ]
  },
  {
   "cell_type": "markdown",
   "id": "486366b6-8d43-4271-9945-e460f0880a5f",
   "metadata": {},
   "source": [
    "#### - Forecasting Multiple Time Step\n",
    "\n",
    "How we can predict next 10 values? One method is to use print a value and adds it as input to trained model."
   ]
  },
  {
   "cell_type": "code",
   "execution_count": 16,
   "id": "4b48342a-1208-4467-a5e7-ac76b9830120",
   "metadata": {},
   "outputs": [],
   "source": [
    "series = generate_time_series(1, n_steps + 10)\n",
    "X_new, y_new = series[:, :n_steps], series[:, n_steps:]\n",
    "X = X_new\n",
    "for step_ahead in range(10):\n",
    "    y_pred_one = model.predict(X[:, step_ahead:])[:, np.newaxis, :]\n",
    "    X = np.concatenate([X, y_pred_one], axis=1)\n",
    "\n",
    "y_pred = X[:, n_steps:]"
   ]
  },
  {
   "cell_type": "code",
   "execution_count": 17,
   "id": "e241065e-84b0-44cb-8bc0-872a33bc0117",
   "metadata": {},
   "outputs": [
    {
     "data": {
      "text/plain": [
       "array([[[-0.5250353 ],\n",
       "        [-0.4961463 ],\n",
       "        [-0.4606766 ],\n",
       "        [-0.44691664],\n",
       "        [-0.4605504 ],\n",
       "        [-0.48447728],\n",
       "        [-0.4921031 ],\n",
       "        [-0.4770032 ],\n",
       "        [-0.44442856],\n",
       "        [-0.40044904]]], dtype=float32)"
      ]
     },
     "execution_count": 17,
     "metadata": {},
     "output_type": "execute_result"
    }
   ],
   "source": [
    "y_pred"
   ]
  },
  {
   "cell_type": "code",
   "execution_count": 29,
   "id": "9cacf37f-89a5-4e2f-97de-6aa51d4f454e",
   "metadata": {},
   "outputs": [
    {
     "data": {
      "text/plain": [
       "(1, 60, 1)"
      ]
     },
     "execution_count": 29,
     "metadata": {},
     "output_type": "execute_result"
    }
   ],
   "source": [
    "X.shape"
   ]
  },
  {
   "cell_type": "code",
   "execution_count": 20,
   "id": "abed3a17-7c91-433c-af61-31060456ab32",
   "metadata": {},
   "outputs": [
    {
     "data": {
      "text/plain": [
       "(1, 60, 1)"
      ]
     },
     "execution_count": 20,
     "metadata": {},
     "output_type": "execute_result"
    }
   ],
   "source": [
    "series.shape"
   ]
  },
  {
   "cell_type": "code",
   "execution_count": 32,
   "id": "332bf8d8-a18b-46ba-8bcc-372c9990690f",
   "metadata": {},
   "outputs": [
    {
     "data": {
      "text/plain": [
       "[<matplotlib.lines.Line2D at 0x1a811be81f0>]"
      ]
     },
     "execution_count": 32,
     "metadata": {},
     "output_type": "execute_result"
    },
    {
     "data": {
      "image/png": "[encoded data removed]",
      "text/plain": [
       "<Figure size 432x288 with 1 Axes>"
      ]
     },
     "metadata": {
      "needs_background": "light"
     },
     "output_type": "display_data"
    }
   ],
   "source": [
    "plt.plot(range(60), series.reshape(-1), marker='o')\n",
    "plt.plot(range(50,60,1), y_pred.reshape(-1), marker='x')"
   ]
  },
  {
   "cell_type": "markdown",
   "id": "60c249cd-09e4-459f-a5f0-622bfc8fca4a",
   "metadata": {},
   "source": [
    "Another method is to train RNN and predict next 10 values at once. Firsr change target to a 10 elements vector. "
   ]
  },
  {
   "cell_type": "code",
   "execution_count": 33,
   "id": "284eb404-d4c1-449b-a01e-0f832ca4cae2",
   "metadata": {},
   "outputs": [],
   "source": [
    "series = generate_time_series(10000, n_steps + 10)\n",
    "X_train, y_train = series[:7000, :n_steps], series[:7000, -10:, 0]\n",
    "X_valid, y_valid = series[7000:9000, :n_steps], series[7000:9000, -10, 0]\n",
    "X_test, y_test = series[9000:, n_steps], series[9000:, -10, 0]"
   ]
  },
  {
   "cell_type": "code",
   "execution_count": 36,
   "id": "f305ea1d-5691-437a-a2be-e60b1190d033",
   "metadata": {},
   "outputs": [],
   "source": [
    "model = keras.models.Sequential([\n",
    "    keras.layers.SimpleRNN(20, return_sequences=True, input_shape=[None, 1]),\n",
    "    keras.layers.SimpleRNN(20),\n",
    "    keras.layers.Dense(10)\n",
    "])"
   ]
  },
  {
   "cell_type": "code",
   "execution_count": 37,
   "id": "a28f0e82-1477-4b65-8a91-0950d72dd980",
   "metadata": {},
   "outputs": [
    {
     "name": "stdout",
     "output_type": "stream",
     "text": [
      "Epoch 1/20\n",
      "219/219 [==============================] - 4s 11ms/step - loss: 0.1395 - val_loss: 0.0900\n",
      "Epoch 2/20\n",
      "219/219 [==============================] - 2s 9ms/step - loss: 0.0867 - val_loss: 0.0812\n",
      "Epoch 3/20\n",
      "219/219 [==============================] - 2s 9ms/step - loss: 0.0780 - val_loss: 0.0679\n",
      "Epoch 4/20\n",
      "219/219 [==============================] - 2s 9ms/step - loss: 0.0712 - val_loss: 0.0821\n",
      "Epoch 5/20\n",
      "219/219 [==============================] - 2s 9ms/step - loss: 0.0660 - val_loss: 0.0927\n",
      "Epoch 6/20\n",
      "219/219 [==============================] - 2s 10ms/step - loss: 0.0615 - val_loss: 0.0876\n",
      "Epoch 7/20\n",
      "219/219 [==============================] - 2s 10ms/step - loss: 0.0578 - val_loss: 0.0873\n",
      "Epoch 8/20\n",
      "219/219 [==============================] - 2s 10ms/step - loss: 0.0564 - val_loss: 0.1034\n",
      "Epoch 9/20\n",
      "219/219 [==============================] - 2s 9ms/step - loss: 0.0539 - val_loss: 0.0986\n",
      "Epoch 10/20\n",
      "219/219 [==============================] - 2s 10ms/step - loss: 0.0523 - val_loss: 0.1082\n",
      "Epoch 11/20\n",
      "219/219 [==============================] - 2s 10ms/step - loss: 0.0507 - val_loss: 0.1122\n",
      "Epoch 12/20\n",
      "219/219 [==============================] - 2s 9ms/step - loss: 0.0503 - val_loss: 0.1206\n",
      "Epoch 13/20\n",
      "219/219 [==============================] - 2s 10ms/step - loss: 0.0481 - val_loss: 0.1017\n",
      "Epoch 14/20\n",
      "219/219 [==============================] - 2s 10ms/step - loss: 0.0471 - val_loss: 0.0941\n",
      "Epoch 15/20\n",
      "219/219 [==============================] - 2s 10ms/step - loss: 0.0466 - val_loss: 0.1191\n",
      "Epoch 16/20\n",
      "219/219 [==============================] - 2s 10ms/step - loss: 0.0448 - val_loss: 0.1027\n",
      "Epoch 17/20\n",
      "219/219 [==============================] - 2s 10ms/step - loss: 0.0434 - val_loss: 0.1105\n",
      "Epoch 18/20\n",
      "219/219 [==============================] - 2s 10ms/step - loss: 0.0425 - val_loss: 0.1113\n",
      "Epoch 19/20\n",
      "219/219 [==============================] - 2s 10ms/step - loss: 0.0424 - val_loss: 0.1004\n",
      "Epoch 20/20\n",
      "219/219 [==============================] - 2s 10ms/step - loss: 0.0420 - val_loss: 0.1496\n"
     ]
    }
   ],
   "source": [
    "model.compile(optimizer=\"adam\", loss=\"mse\")\n",
    "history = model.fit(X_train, y_train, epochs=20, validation_data=(X_valid, y_valid))"
   ]
  },
  {
   "cell_type": "code",
   "execution_count": 38,
   "id": "39b784eb-69fa-429f-9f81-70fff8a356a6",
   "metadata": {},
   "outputs": [],
   "source": [
    "y_pred = model.predict(X_new)"
   ]
  },
  {
   "cell_type": "code",
   "execution_count": 41,
   "id": "5aece82c-667e-4c97-86ea-7a665fa30102",
   "metadata": {},
   "outputs": [
    {
     "data": {
      "text/plain": [
       "[<matplotlib.lines.Line2D at 0x1a813b9dd30>]"
      ]
     },
     "execution_count": 41,
     "metadata": {},
     "output_type": "execute_result"
    },
    {
     "data": {
      "image/png": "[encoded data removed]",
      "text/plain": [
       "<Figure size 432x288 with 1 Axes>"
      ]
     },
     "metadata": {
      "needs_background": "light"
     },
     "output_type": "display_data"
    }
   ],
   "source": [
    "plt.plot(range(60), series.reshape(-1)[-60:], marker='o')\n",
    "plt.plot(range(50,60,1), y_pred.reshape(-1), marker='x')"
   ]
  },
  {
   "cell_type": "markdown",
   "id": "cfcc0514-2141-404f-ad1b-18bf7bc9d31d",
   "metadata": {},
   "source": [
    "And we can train model that predict next 10 values in not only last step but also all step. change sequence-to-vector to sequence-to-sequence. Advantage of this method is all element about RNN output from all time step is included to loss. This says that more error gradient flows to model and it doesn't have to flow along time. It makes train stable and boosts train speed."
   ]
  },
  {
   "cell_type": "code",
   "execution_count": 42,
   "id": "c46f4a39-5cae-4423-b57d-a3a39a33edb6",
   "metadata": {},
   "outputs": [],
   "source": [
    "Y = np.empty((10000, n_steps, 10))\n",
    "for step_ahead in range(1, 10+1):\n",
    "    Y[:,:, step_ahead - 1] = series[:, step_ahead:step_ahead + n_steps, 0]\n",
    "y_train = Y[:7000]\n",
    "y_valid = Y[7000:9000]\n",
    "y_test = Y[9000:]"
   ]
  },
  {
   "cell_type": "markdown",
   "id": "bd24907f-10fb-4b78-bff3-d9fb128db8ec",
   "metadata": {},
   "source": [
    "To change it sequence-to-sequence model, we have to set **return_sequence=True** to all recurrent layer. And apply output to Dense layer in all time step. Use **TiemDistributed** layer. It changes size of input to make model handle each time step like seperate sample."
   ]
  },
  {
   "cell_type": "code",
   "execution_count": 43,
   "id": "c1925b4a-9129-4b46-87eb-395471e75be7",
   "metadata": {},
   "outputs": [],
   "source": [
    "model = keras.models.Sequential([\n",
    "    keras.layers.SimpleRNN(20, return_sequences=True, input_shape=[None, 1]),\n",
    "    keras.layers.SimpleRNN(20, return_sequences=True),\n",
    "    keras.layers.TimeDistributed(keras.layers.Dense(10))\n",
    "])"
   ]
  },
  {
   "cell_type": "code",
   "execution_count": 44,
   "id": "9ac37dd1-048c-4a86-96cf-83531aca5f07",
   "metadata": {},
   "outputs": [
    {
     "name": "stdout",
     "output_type": "stream",
     "text": [
      "Epoch 1/20\n",
      "219/219 [==============================] - 3s 9ms/step - loss: 0.1138 - val_loss: 0.0931\n",
      "Epoch 2/20\n",
      "219/219 [==============================] - 2s 8ms/step - loss: 0.0866 - val_loss: 0.0856\n",
      "Epoch 3/20\n",
      "219/219 [==============================] - 2s 8ms/step - loss: 0.0802 - val_loss: 0.0794\n",
      "Epoch 4/20\n",
      "219/219 [==============================] - 2s 8ms/step - loss: 0.0721 - val_loss: 0.0697\n",
      "Epoch 5/20\n",
      "219/219 [==============================] - 2s 8ms/step - loss: 0.0666 - val_loss: 0.0661\n",
      "Epoch 6/20\n",
      "219/219 [==============================] - 2s 8ms/step - loss: 0.0639 - val_loss: 0.0658\n",
      "Epoch 7/20\n",
      "219/219 [==============================] - 2s 8ms/step - loss: 0.0622 - val_loss: 0.0631\n",
      "Epoch 8/20\n",
      "219/219 [==============================] - 2s 8ms/step - loss: 0.0616 - val_loss: 0.0623\n",
      "Epoch 9/20\n",
      "219/219 [==============================] - 2s 8ms/step - loss: 0.0603 - val_loss: 0.0638\n",
      "Epoch 10/20\n",
      "219/219 [==============================] - 2s 8ms/step - loss: 0.0600 - val_loss: 0.0611\n",
      "Epoch 11/20\n",
      "219/219 [==============================] - 2s 8ms/step - loss: 0.0591 - val_loss: 0.0596\n",
      "Epoch 12/20\n",
      "219/219 [==============================] - 2s 8ms/step - loss: 0.0584 - val_loss: 0.0597\n",
      "Epoch 13/20\n",
      "219/219 [==============================] - 2s 10ms/step - loss: 0.0575 - val_loss: 0.0579\n",
      "Epoch 14/20\n",
      "219/219 [==============================] - 2s 8ms/step - loss: 0.0571 - val_loss: 0.0576\n",
      "Epoch 15/20\n",
      "219/219 [==============================] - 2s 8ms/step - loss: 0.0566 - val_loss: 0.0572\n",
      "Epoch 16/20\n",
      "219/219 [==============================] - 2s 9ms/step - loss: 0.0562 - val_loss: 0.0567\n",
      "Epoch 17/20\n",
      "219/219 [==============================] - 2s 9ms/step - loss: 0.0559 - val_loss: 0.0568\n",
      "Epoch 18/20\n",
      "219/219 [==============================] - 2s 9ms/step - loss: 0.0557 - val_loss: 0.0562\n",
      "Epoch 19/20\n",
      "219/219 [==============================] - 2s 8ms/step - loss: 0.0550 - val_loss: 0.0559\n",
      "Epoch 20/20\n",
      "219/219 [==============================] - 2s 9ms/step - loss: 0.0548 - val_loss: 0.0553\n"
     ]
    }
   ],
   "source": [
    "model.compile(optimizer=\"adam\", loss=\"mse\")\n",
    "history = model.fit(X_train, y_train, epochs=20, validation_data=(X_valid, y_valid))"
   ]
  },
  {
   "cell_type": "code",
   "execution_count": 49,
   "id": "ed77dc9a-c1ef-45ca-9635-37429cedfebe",
   "metadata": {},
   "outputs": [
    {
     "data": {
      "text/plain": [
       "[<matplotlib.lines.Line2D at 0x1a81b275700>]"
      ]
     },
     "execution_count": 49,
     "metadata": {},
     "output_type": "execute_result"
    },
    {
     "data": {
      "image/png": "[encoded data removed]",
      "text/plain": [
       "<Figure size 432x288 with 1 Axes>"
      ]
     },
     "metadata": {
      "needs_background": "light"
     },
     "output_type": "display_data"
    }
   ],
   "source": [
    "y_pred = model.predict(X_new)\n",
    "\n",
    "plt.plot(range(60), series.reshape(-1)[-60:], marker='o')\n",
    "plt.plot(range(50,60,1), y_pred[0,-1,:], marker='x')"
   ]
  }
 ],
 "metadata": {
  "kernelspec": {
   "display_name": "Python 3 (ipykernel)",
   "language": "python",
   "name": "python3"
  },
  "language_info": {
   "codemirror_mode": {
    "name": "ipython",
    "version": 3
   },
   "file_extension": ".py",
   "mimetype": "text/x-python",
   "name": "python",
   "nbconvert_exporter": "python",
   "pygments_lexer": "ipython3",
   "version": "3.9.7"
  }
 },
 "nbformat": 4,
 "nbformat_minor": 5
}
