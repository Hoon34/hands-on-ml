{
 "cells": [
  {
   "attachments": {
    "7ee1359e-0939-4dc2-99b1-490e473a4b4e.png": {
     "image/png": "[encoded data removed]"
    }
   },
   "cell_type": "markdown",
   "id": "426b4783-bfe0-495f-8612-3059ebd9f55a",
   "metadata": {},
   "source": [
    "> # Customizing1 #\n",
    "\n",
    "### - Custom loss function ###\n",
    "\n",
    "Suppose there are some noise data in train set. Then what loss function we should use? MSE gives to excessive penalty at big error. So it can't make an optimal model. And MAE takes time to convergence since it is generous to outliers. And the model not be trained precisely. Then we can make Huber loss. Let's make it.\n",
    "\n",
    "![huber.png](attachment:7ee1359e-0939-4dc2-99b1-490e473a4b4e.png)"
   ]
  },
  {
   "cell_type": "code",
   "execution_count": 1,
   "id": "a9201dbf-3cf8-49c0-ad13-b3996cf2c8d4",
   "metadata": {},
   "outputs": [],
   "source": [
    "import tensorflow as tf\n",
    "from tensorflow import keras"
   ]
  },
  {
   "cell_type": "code",
   "execution_count": 2,
   "id": "7d817667-b75c-453a-8ea6-1fe353bb9678",
   "metadata": {},
   "outputs": [],
   "source": [
    "def huber_loss(y_pred, y_true):\n",
    "    error = y_true - y_pred\n",
    "    smaller = tf.abs(error) <= 1\n",
    "    small_loss = 0.5 * tf.square(error)\n",
    "    big_loss = tf.abs(error) - 0.5\n",
    "    \n",
    "    return tf.where(smaller, small_loss, big_loss)"
   ]
  },
  {
   "cell_type": "markdown",
   "id": "c20c7306-0aff-4b29-b2fa-34bb07d1a42f",
   "metadata": {},
   "source": [
    "It's better to return a tensor which has a loss. Then keras can apply class or sample weight when it's needed."
   ]
  },
  {
   "cell_type": "code",
   "execution_count": 6,
   "id": "dba12dcc-af8d-4735-b0e2-9df5f8640e57",
   "metadata": {},
   "outputs": [],
   "source": [
    "model = keras.models.load_model(\"model_A.h5\")\n",
    "model.compile(loss=huber_loss, optimizer='nadam')"
   ]
  },
  {
   "cell_type": "code",
   "execution_count": 7,
   "id": "c53545c5-ee6d-4e87-9db4-7bcd4440a706",
   "metadata": {},
   "outputs": [],
   "source": [
    "model.save(\"huber_model.h5\")"
   ]
  },
  {
   "cell_type": "markdown",
   "id": "5989fcd3-e267-4706-81ed-7f0c276abf55",
   "metadata": {},
   "source": [
    "When keras saves the model, it saves function name. So no matter accurs in saving. More generally, we have to map name and class when load custom model."
   ]
  },
  {
   "cell_type": "code",
   "execution_count": 8,
   "id": "3e910a6f-d067-4f3f-bfa7-01276919c9ed",
   "metadata": {},
   "outputs": [],
   "source": [
    "model = keras.models.load_model(\"huber_model.h5\", custom_objects={\"huber_loss\" : huber_loss})"
   ]
  },
  {
   "cell_type": "markdown",
   "id": "8e737a58-ae5e-40ab-b4cd-3c60d59ba23e",
   "metadata": {},
   "source": [
    "Threshold of above fuction is set 1. How we do when we need another threshold value? One method is to make a function that can takes a variable."
   ]
  },
  {
   "cell_type": "code",
   "execution_count": 13,
   "id": "7444a615-a5cb-4128-a174-95f3f8e01a78",
   "metadata": {},
   "outputs": [],
   "source": [
    "def huber(threshhold=1):\n",
    "    def huber_loss(y_pred, y_true):\n",
    "        error = y_true - y_pred\n",
    "        smaller = tf.abs(error) <= threshhold\n",
    "        small_loss = 0.5 * tf.square(error)\n",
    "        big_loss = threshhold(tf.abs(error) - 0.5*threshhold)\n",
    "    \n",
    "        return tf.where(smaller, small_loss, big_loss)\n",
    "    return huber_loss"
   ]
  },
  {
   "cell_type": "code",
   "execution_count": 14,
   "id": "cc59f3c7-37e1-4d9c-b467-0935f651953e",
   "metadata": {},
   "outputs": [],
   "source": [
    "model.compile(loss=huber(2.5), optimizer=\"nadam\")\n",
    "model.save(\"huber_threshold.h5\")"
   ]
  },
  {
   "cell_type": "markdown",
   "id": "97352a9d-05d6-41a0-94d9-5c2089cf9638",
   "metadata": {},
   "source": [
    "When saving model, threshold value is not saved. So we should set threshold value when load model."
   ]
  },
  {
   "cell_type": "code",
   "execution_count": 15,
   "id": "4f776819-cc28-4abb-bb15-942718a3b47d",
   "metadata": {},
   "outputs": [],
   "source": [
    "model = keras.models.load_model(\"huber_threshold.h5\", custom_objects={\"huber_fn\": huber(2.5)})"
   ]
  },
  {
   "cell_type": "markdown",
   "id": "9301a524-94ac-49cd-b53e-09101ee44fa4",
   "metadata": {},
   "source": [
    "This problem is solved by keras loss class and config method."
   ]
  },
  {
   "cell_type": "code",
   "execution_count": 20,
   "id": "b00fa45e-04e1-4d10-8376-197a26d60334",
   "metadata": {},
   "outputs": [],
   "source": [
    "class HuberLoss(keras.losses.Loss):\n",
    "    def __init__(self, threshold=1.0, **kwrags):\n",
    "        self.threshold = threshold\n",
    "        super().__init__(**kwrags)\n",
    "    def call(self, y_pred, y_true):\n",
    "        error = y_true - y_pred\n",
    "        smaller = tf.abs(error) <= self.threshold\n",
    "        small_loss = 0.5 * tf.square(error)\n",
    "        big_loss = self.threshold(tf.abs(error) - 0.5*self.threshold)\n",
    "        return tf.where(smaller, small_loss, big_loss)\n",
    "    def get_config(self):\n",
    "        base_config = super().get_config()\n",
    "        return {**base_config, \"threshold\": self.threshold}"
   ]
  },
  {
   "cell_type": "code",
   "execution_count": 21,
   "id": "1c144699-3c69-4ae5-a3ad-868671b0bd18",
   "metadata": {},
   "outputs": [],
   "source": [
    "model.compile(loss=HuberLoss(2.5), optimizer=\"nadam\")"
   ]
  },
  {
   "cell_type": "code",
   "execution_count": 22,
   "id": "0d121d8d-aeff-4fc6-8de7-9ea0b8044909",
   "metadata": {},
   "outputs": [],
   "source": [
    "model = keras.models.load_model(\"huber_threshold.h5\", custom_objects={\"HuberLoss\": HuberLoss})"
   ]
  },
  {
   "cell_type": "markdown",
   "id": "f6d05486-803a-466a-abcf-731a28c3dedc",
   "metadata": {},
   "source": [
    "### - Active function, Initialization, Regularizaiton Customizing ###\n",
    "\n",
    "We can customize most of keras function by similar method. We just write a fuction code with proper input and output. Under code is some examples of them."
   ]
  },
  {
   "cell_type": "code",
   "execution_count": 23,
   "id": "66c8b05e-9b2a-4da7-a991-c82818b9362a",
   "metadata": {},
   "outputs": [],
   "source": [
    "## custoom active function\n",
    "\n",
    "def soft_plus(z):\n",
    "    return tf.math.log(tf.exp(z)+1.0)\n",
    "\n",
    "## custom glorot initialization\n",
    "\n",
    "def cus_glorot(shape, dtype=tf.float32):\n",
    "    std = tf.sqrt(2. / (shape[0]+shape[1]))\n",
    "    return tf.random.normal(shape, stddev=std, dtype=dtype)\n",
    "\n",
    "## custom l1 regularization\n",
    "\n",
    "def cus_l1(weights):\n",
    "    return tf.reduce_sum(tf.abs(0.01*weights))\n",
    "\n",
    "## custom positive constraint\n",
    "\n",
    "def cus_positive_weight(weights):\n",
    "    return tf.where(weights < 0 , tf.zeros_like(weights), weights)"
   ]
  },
  {
   "cell_type": "markdown",
   "id": "67e43ad7-6eb7-4a1a-8bd7-222c4628e56f",
   "metadata": {},
   "source": [
    "These made functions can be used like normal function."
   ]
  },
  {
   "cell_type": "code",
   "execution_count": 24,
   "id": "c5fc923f-76c4-4795-9aea-56344c3964d1",
   "metadata": {},
   "outputs": [],
   "source": [
    "layer = keras.layers.Dense(30, activation=soft_plus, kernel_initializer=cus_glorot,\n",
    "                          kernel_regularizer=cus_l1, kernel_constraint=cus_positive_weight)"
   ]
  },
  {
   "cell_type": "markdown",
   "id": "38d30a8f-b322-4427-b998-4c3846a46e7a",
   "metadata": {},
   "source": [
    "If the functions have hyperparameter to save with, just inherit proper class."
   ]
  },
  {
   "cell_type": "markdown",
   "id": "60635a26-342c-4048-a585-b59e8411dfc7",
   "metadata": {},
   "source": [
    "### - Custom Metic\n",
    "\n",
    "Loss and metric are not conceptually different. Loss is used for gradient descent. So it is differentiable at all point. People should not understand this function. In contrary, metric is used for evaluating. So people should understand it easily.\n",
    "\n",
    "But making custom metric is same with making custom loss. Previous huber function works well in metric."
   ]
  },
  {
   "cell_type": "code",
   "execution_count": 25,
   "id": "ebb3f811-4248-405f-93ab-4af38d848f73",
   "metadata": {},
   "outputs": [],
   "source": [
    "model.compile(loss=\"mse\", optimizer=\"nadam\", metrics=[huber(2.0)])"
   ]
  }
 ],
 "metadata": {
  "kernelspec": {
   "display_name": "Python 3 (ipykernel)",
   "language": "python",
   "name": "python3"
  },
  "language_info": {
   "codemirror_mode": {
    "name": "ipython",
    "version": 3
   },
   "file_extension": ".py",
   "mimetype": "text/x-python",
   "name": "python",
   "nbconvert_exporter": "python",
   "pygments_lexer": "ipython3",
   "version": "3.9.7"
  }
 },
 "nbformat": 4,
 "nbformat_minor": 5
}
