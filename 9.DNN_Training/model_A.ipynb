{
 "cells": [
  {
   "cell_type": "code",
   "execution_count": 1,
   "metadata": {},
   "outputs": [],
   "source": [
    "import tensorflow as tf\n",
    "from tensorflow import keras\n",
    "import numpy as np\n",
    "import pandas as pd\n",
    "import matplotlib.pyplot as plt\n",
    "import warnings ; warnings.filterwarnings(\"ignore\")"
   ]
  },
  {
   "cell_type": "code",
   "execution_count": 2,
   "metadata": {},
   "outputs": [],
   "source": [
    "fasion_data = keras.datasets.fashion_mnist\n",
    "(X_train, y_train), (X_test, y_test) = fasion_data.load_data()"
   ]
  },
  {
   "cell_type": "code",
   "execution_count": 17,
   "metadata": {},
   "outputs": [],
   "source": [
    "X_train_scd, X_valid = (X_train[5000:] / 255.0) , (X_train[:5000] / 255.0)\n",
    "y_train_scd, y_valid = y_train[5000:] , y_train[:5000]\n",
    "X_test_scd = X_test / 255.0"
   ]
  },
  {
   "cell_type": "code",
   "execution_count": 18,
   "metadata": {},
   "outputs": [],
   "source": [
    "class_names = ['T-shirt/top', 'Trouser', 'Pullover', 'Dress', 'Coat',\n",
    "               'Sandal', 'Shirt', 'Sneaker', 'Bag', 'Ankle boot']"
   ]
  },
  {
   "cell_type": "code",
   "execution_count": 29,
   "metadata": {},
   "outputs": [],
   "source": [
    "model = keras.models.Sequential([\n",
    "    keras.layers.Flatten(input_shape=[28,28]),\n",
    "    keras.layers.BatchNormalization(),\n",
    "    keras.layers.Dense(100, activation='selu', kernel_initializer='lecun_normal'),\n",
    "    keras.layers.BatchNormalization(),\n",
    "    keras.layers.Dense(100, activation='selu', kernel_initializer='lecun_normal'),\n",
    "    keras.layers.BatchNormalization(),\n",
    "    keras.layers.Dense(50, activation='selu', kernel_initializer='lecun_normal'),\n",
    "    keras.layers.BatchNormalization(),\n",
    "    keras.layers.Dense(50, activation='selu', kernel_initializer='lecun_normal'),\n",
    "    keras.layers.BatchNormalization(),\n",
    "    keras.layers.Dense(10, activation='softmax')\n",
    "     ])"
   ]
  },
  {
   "cell_type": "code",
   "execution_count": 30,
   "metadata": {},
   "outputs": [],
   "source": [
    "model.compile(loss='sparse_categorical_crossentropy',\n",
    "             optimizer='sgd',\n",
    "             metrics=['accuracy'])"
   ]
  },
  {
   "cell_type": "code",
   "execution_count": 31,
   "metadata": {},
   "outputs": [
    {
     "name": "stdout",
     "output_type": "stream",
     "text": [
      "Epoch 1/100\n",
      "1719/1719 [==============================] - 4s 2ms/step - loss: 0.5593 - accuracy: 0.8071 - val_loss: 0.4151 - val_accuracy: 0.8564\n",
      "Epoch 2/100\n",
      "1719/1719 [==============================] - 4s 2ms/step - loss: 0.4380 - accuracy: 0.8436 - val_loss: 0.3760 - val_accuracy: 0.8694\n",
      "Epoch 3/100\n",
      "1719/1719 [==============================] - 4s 2ms/step - loss: 0.4007 - accuracy: 0.8565 - val_loss: 0.3649 - val_accuracy: 0.8728\n",
      "Epoch 4/100\n",
      "1719/1719 [==============================] - 4s 2ms/step - loss: 0.3751 - accuracy: 0.8643 - val_loss: 0.3463 - val_accuracy: 0.8768\n",
      "Epoch 5/100\n",
      "1719/1719 [==============================] - 4s 2ms/step - loss: 0.3599 - accuracy: 0.8693 - val_loss: 0.3351 - val_accuracy: 0.8760\n",
      "Epoch 6/100\n",
      "1719/1719 [==============================] - 4s 2ms/step - loss: 0.3429 - accuracy: 0.8781 - val_loss: 0.3391 - val_accuracy: 0.8776\n",
      "Epoch 7/100\n",
      "1719/1719 [==============================] - 4s 2ms/step - loss: 0.3342 - accuracy: 0.8781 - val_loss: 0.3299 - val_accuracy: 0.8836\n",
      "Epoch 8/100\n",
      "1719/1719 [==============================] - 4s 2ms/step - loss: 0.3234 - accuracy: 0.8824 - val_loss: 0.3199 - val_accuracy: 0.8838\n",
      "Epoch 9/100\n",
      "1719/1719 [==============================] - 4s 2ms/step - loss: 0.3119 - accuracy: 0.8847 - val_loss: 0.3284 - val_accuracy: 0.8830\n",
      "Epoch 10/100\n",
      "1719/1719 [==============================] - 4s 3ms/step - loss: 0.3048 - accuracy: 0.8887 - val_loss: 0.3124 - val_accuracy: 0.8864\n",
      "Epoch 11/100\n",
      "1719/1719 [==============================] - 4s 2ms/step - loss: 0.2985 - accuracy: 0.8905 - val_loss: 0.3154 - val_accuracy: 0.8846\n",
      "Epoch 12/100\n",
      "1719/1719 [==============================] - 4s 3ms/step - loss: 0.2905 - accuracy: 0.8925 - val_loss: 0.3114 - val_accuracy: 0.8862\n",
      "Epoch 13/100\n",
      "1719/1719 [==============================] - 4s 2ms/step - loss: 0.2834 - accuracy: 0.8956 - val_loss: 0.3154 - val_accuracy: 0.8836\n",
      "Epoch 14/100\n",
      "1719/1719 [==============================] - 4s 2ms/step - loss: 0.2786 - accuracy: 0.8984 - val_loss: 0.3135 - val_accuracy: 0.8840\n",
      "Epoch 15/100\n",
      "1719/1719 [==============================] - 4s 2ms/step - loss: 0.2711 - accuracy: 0.8996 - val_loss: 0.3133 - val_accuracy: 0.8850\n",
      "Epoch 16/100\n",
      "1719/1719 [==============================] - 4s 2ms/step - loss: 0.2665 - accuracy: 0.9007 - val_loss: 0.3082 - val_accuracy: 0.8852\n",
      "Epoch 17/100\n",
      "1719/1719 [==============================] - 4s 2ms/step - loss: 0.2620 - accuracy: 0.9020 - val_loss: 0.2997 - val_accuracy: 0.8898\n",
      "Epoch 18/100\n",
      "1719/1719 [==============================] - 4s 2ms/step - loss: 0.2557 - accuracy: 0.9063 - val_loss: 0.3051 - val_accuracy: 0.8908\n",
      "Epoch 19/100\n",
      "1719/1719 [==============================] - 4s 3ms/step - loss: 0.2531 - accuracy: 0.9058 - val_loss: 0.3085 - val_accuracy: 0.8890\n",
      "Epoch 20/100\n",
      "1719/1719 [==============================] - 4s 3ms/step - loss: 0.2501 - accuracy: 0.9063 - val_loss: 0.3042 - val_accuracy: 0.8902\n",
      "Epoch 21/100\n",
      "1719/1719 [==============================] - 4s 3ms/step - loss: 0.2431 - accuracy: 0.9093 - val_loss: 0.3039 - val_accuracy: 0.8880\n",
      "Epoch 22/100\n",
      "1719/1719 [==============================] - 4s 2ms/step - loss: 0.2414 - accuracy: 0.9101 - val_loss: 0.3013 - val_accuracy: 0.8934\n",
      "Epoch 23/100\n",
      "1719/1719 [==============================] - 4s 3ms/step - loss: 0.2365 - accuracy: 0.9125 - val_loss: 0.3058 - val_accuracy: 0.8912\n",
      "Epoch 24/100\n",
      "1719/1719 [==============================] - 4s 3ms/step - loss: 0.2346 - accuracy: 0.9124 - val_loss: 0.3063 - val_accuracy: 0.8910\n",
      "Epoch 25/100\n",
      "1719/1719 [==============================] - 4s 2ms/step - loss: 0.2289 - accuracy: 0.9155 - val_loss: 0.3112 - val_accuracy: 0.8910\n",
      "Epoch 26/100\n",
      "1719/1719 [==============================] - 4s 2ms/step - loss: 0.2259 - accuracy: 0.9175 - val_loss: 0.3067 - val_accuracy: 0.8898\n",
      "Epoch 27/100\n",
      "1719/1719 [==============================] - 5s 3ms/step - loss: 0.2214 - accuracy: 0.9167 - val_loss: 0.3160 - val_accuracy: 0.8886\n"
     ]
    }
   ],
   "source": [
    "early_stop = keras.callbacks.EarlyStopping(patience=10, restore_best_weights=True)\n",
    "\n",
    "history = model.fit(X_train_scd, y_train_scd, epochs=100, validation_data=(X_valid, y_valid), callbacks=[early_stop])"
   ]
  },
  {
   "cell_type": "code",
   "execution_count": 32,
   "metadata": {},
   "outputs": [
    {
     "name": "stdout",
     "output_type": "stream",
     "text": [
      "313/313 [==============================] - 0s 1ms/step - loss: 0.3334 - accuracy: 0.8826\n"
     ]
    },
    {
     "data": {
      "text/plain": [
       "[0.3334413170814514, 0.8826000094413757]"
      ]
     },
     "execution_count": 32,
     "metadata": {},
     "output_type": "execute_result"
    }
   ],
   "source": [
    "model.evaluate(X_test_scd, y_test)"
   ]
  },
  {
   "cell_type": "code",
   "execution_count": 33,
   "metadata": {},
   "outputs": [],
   "source": [
    "model.save(\"model_A.h5\")"
   ]
  }
 ],
 "metadata": {
  "kernelspec": {
   "display_name": "Python 3",
   "language": "python",
   "name": "python3"
  },
  "language_info": {
   "codemirror_mode": {
    "name": "ipython",
    "version": 3
   },
   "file_extension": ".py",
   "mimetype": "text/x-python",
   "name": "python",
   "nbconvert_exporter": "python",
   "pygments_lexer": "ipython3",
   "version": "3.7.6"
  }
 },
 "nbformat": 4,
 "nbformat_minor": 4
}
